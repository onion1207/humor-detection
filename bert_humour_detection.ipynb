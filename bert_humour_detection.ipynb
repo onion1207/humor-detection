{
 "cells": [
  {
   "attachments": {},
   "cell_type": "markdown",
   "metadata": {},
   "source": [
    "This code is heavily referenced by: \n",
    "https://github.com/rohan-paul/MachineLearning-DeepLearning-Code-for-my-YouTube-Channel/blob/master/NLP/Fine_Tuning_HuggingFace_Transformer_BERT_Yelp_Customer_Review_Predictions/Fine_Tuning_Transformer_BERT_Customer_Review.ipynb"
   ]
  },
  {
   "cell_type": "code",
   "execution_count": 1,
   "metadata": {
    "collapsed": true,
    "id": "psHTVnoUYEdj"
   },
   "outputs": [],
   "source": [
    "!pip install transformers tokenizer -q"
   ]
  },
  {
   "cell_type": "code",
   "execution_count": 1,
   "metadata": {
    "id": "NhUpJfsiYLx5"
   },
   "outputs": [],
   "source": [
    "#imports\n",
    "import numpy as np # linear algebra\n",
    "import pandas as pd # data processing CSV file\n",
    "\n",
    "\n",
    "# import matplotlib.pyplot as plt # visualising data\n",
    "# import seaborn as sns # visualising statistical data\n",
    "import sklearn\n",
    "from sklearn.model_selection import train_test_split\n",
    "from sklearn.metrics import confusion_matrix, classification_report\n",
    "\n",
    "# %matplotlib inline\n",
    "\n",
    "import os\n",
    "for dirname, _, filenames in os.walk('/kaggle/input'):\n",
    "    for filename in filenames:\n",
    "        print(os.path.join(dirname, filename))\n",
    "\n",
    "import warnings\n",
    "warnings.filterwarnings('ignore')"
   ]
  },
  {
   "cell_type": "code",
   "execution_count": 2,
   "metadata": {
    "id": "JlJ0LG0cp7Z_"
   },
   "outputs": [],
   "source": [
    "from transformers import BertTokenizer, BertModel, get_linear_schedule_with_warmup\n",
    "\n",
    "import torch\n",
    "from torch.utils.data import Dataset, DataLoader\n",
    "import torch.nn.functional as F\n",
    "from torch import nn, optim\n",
    "\n",
    "from collections import defaultdict\n",
    "\n",
    "MAX_LEN = 512\n",
    "BATCH_SIZE = 16\n",
    "\n",
    "RANDOM_SEED = 32\n",
    "np.random.seed(RANDOM_SEED)\n",
    "torch.manual_seed(RANDOM_SEED)\n",
    "device = torch.device(\"cuda:0\" if torch.cuda.is_available() else 'cpu')\n",
    "\n",
    "pre_trained_model_ckpt='bert-base-uncased'\n",
    "\n",
    "\n",
    "# CONVERTING DATASET SO THAT IT CAN BE FED INTO THE MODEL\n",
    "class ReviewDataset(Dataset):\n",
    "    def __init__(self, text, target, tokenizer, max_len):\n",
    "        self.text = text\n",
    "        self.target = target\n",
    "        self.tokenizer = tokenizer\n",
    "        self.max_len = max_len\n",
    "\n",
    "    def __len__(self):\n",
    "        return len(self.text)\n",
    "\n",
    "    def __getitem__(self, item):\n",
    "        text = str(self.text[item]) \n",
    "        target = self.target[item]\n",
    "        \n",
    "        encoding = self.tokenizer.encode_plus(\n",
    "            text,\n",
    "            add_special_tokens = True,\n",
    "            max_length = self.max_len,\n",
    "            return_token_type_ids = True,\n",
    "            return_attention_mask = True,\n",
    "            truncation = True,\n",
    "            pad_to_max_length = True,\n",
    "            return_tensors = 'pt',)\n",
    "\n",
    "        output = {\n",
    "            'input_ids': encoding['input_ids'].flatten(),\n",
    "            'attention_mask': encoding['attention_mask'].flatten(),\n",
    "            'targets': torch.tensor(target, dtype=torch.long)\n",
    "        }\n",
    "        \n",
    "        return output\n",
    "\n",
    "\n",
    "pre_trained_model_ckpt = 'bert-base-uncased'\n",
    "tokenizer = BertTokenizer.from_pretrained(pre_trained_model_ckpt)\n",
    "\n",
    "from transformers import DataCollatorWithPadding\n",
    "collator = DataCollatorWithPadding(tokenizer=tokenizer,padding = 'longest')\n",
    "\n",
    "def create_data_loader(df, tokenizer, max_len = MAX_LEN, batch_size = BATCH_SIZE ):\n",
    "    ds = ReviewDataset(\n",
    "        text=df.text.to_list(), \n",
    "        target = df.humor.to_list(),\n",
    "        tokenizer=tokenizer,\n",
    "        max_len=max_len,\n",
    "\n",
    "    )\n",
    "\n",
    "    return DataLoader(ds, batch_size=batch_size, collate_fn=collator ) #formats the data such that it is fed in shuffled iterations\n",
    "\n",
    "\n",
    "\n",
    "# ADDITION CLASSIFIER ON TOP OF BERT BASE\n",
    "class SentimentClassifier(nn.Module):\n",
    "    \"\"\"\n",
    "    Sentiment classification model based on BERT.\n",
    "\n",
    "    Args:\n",
    "        n_classes (int): Number of classes for sentiment classification.\n",
    "\n",
    "    \"\"\"\n",
    "    def __init__(self, n_classes):\n",
    "        super(SentimentClassifier, self).__init__() #calls superinit first to ensure superclass('nn.module') is initialised first\n",
    "        self.bert = BertModel.from_pretrained(pre_trained_model_ckpt,return_dict=False)\n",
    "        self.drop = nn.Dropout(p = 0.3)\n",
    "        self.out = nn.Linear(self.bert.config.hidden_size, n_classes)\n",
    "\n",
    "    def forward(self, input_ids, attention_mask):\n",
    "        \"\"\"\n",
    "        Forward pass of the sentiment classifier model.\n",
    "\n",
    "        Args:\n",
    "            input_ids (torch.Tensor): Input tensor of shape (batch_size, sequence_length).\n",
    "            attention_mask (torch.Tensor): Attention mask tensor of shape (batch_size, sequence_length).\n",
    "\n",
    "        Returns:\n",
    "            torch.Tensor: Output tensor of shape (batch_size, n_classes).\n",
    "\n",
    "        \"\"\"\n",
    "        _, pooled_output = self.bert( #inputs are passed through bert as a base model and outputs are returnd under pooled_output\n",
    "            input_ids = input_ids,\n",
    "            attention_mask = attention_mask\n",
    "        )\n",
    "        output = self.drop(pooled_output) #dropout layer is applied here -- is a neural network used to prevent overfitting which is used on top of the base model\n",
    "        return self.out(output)\n",
    "\n",
    "\n",
    "\n",
    "\n",
    "\n",
    "#EVAL FUNCTIONS\n",
    "def train_model(model, data_loader, loss_fn, optimizer, device, scheduler, n_examples):\n",
    "    \"\"\"\n",
    "    Trains the given model using the provided data loader and optimizer.\n",
    "\n",
    "    Args:\n",
    "        model (torch.nn.Module): Model to train.\n",
    "        data_loader (DataLoader): DataLoader providing the training data.\n",
    "        loss_fn: Loss function to optimize.\n",
    "        optimizer: Optimizer for updating the model's parameters.\n",
    "        device: Device to use for training.\n",
    "        scheduler: Learning rate scheduler.\n",
    "        n_examples (int): Total number of training examples.\n",
    "\n",
    "    Returns:\n",
    "        float: Accuracy of the model on the training data.\n",
    "        float: Average training loss.\n",
    "\n",
    "    \"\"\"\n",
    "    model=model.train()\n",
    "    losses = []\n",
    "    correct_predictions = 0\n",
    "\n",
    "    \"\"\"  iterate over the batches provided by the data loader. Within each iteration, the batch tensors are moved to the appropriate device. The model performs a forward pass on the input tensors, and the predicted labels are obtained by taking the maximum value along the appropriate dimension. \"\"\"\n",
    "    for d in data_loader:\n",
    "        input_ids = d[\"input_ids\"].to(device)\n",
    "        attention_mask = d[\"attention_mask\"].to(device)\n",
    "        targets = d[\"targets\"].to(device)\n",
    "\n",
    "        outputs = model(input_ids=input_ids, attention_mask=attention_mask)\n",
    "        _, preds = torch.max(outputs, dim = 1)\n",
    "        loss = loss_fn(outputs, targets)\n",
    "\n",
    "        correct_predictions += torch.sum(preds == targets).cpu()\n",
    "\n",
    "        losses.append(loss.item())\n",
    "\n",
    "        loss.backward()\n",
    "        nn.utils.clip_grad_norm_(model.parameters(), max_norm=1.0)\n",
    "        optimizer.step()\n",
    "        scheduler.step()\n",
    "        optimizer.zero_grad()\n",
    "\n",
    "    return correct_predictions/n_examples, np.mean(losses) # gradient clipping\n",
    "\n",
    "\n",
    "def eval_model(model, data_loader, loss_fn, device, n_examples):\n",
    "    model = model.eval()\n",
    "    losses = []\n",
    "    correct_predictions = 0\n",
    "\n",
    "    with torch.no_grad(): # disable gradient computation of loss function\n",
    "        for d in data_loader:\n",
    "            input_ids = d[\"input_ids\"].to(device)\n",
    "            attention_mask = d[\"attention_mask\"].to(device)\n",
    "            targets = d[\"targets\"].to(device)\n",
    "\n",
    "            outputs = model(input_ids=input_ids, attention_mask=attention_mask)\n",
    "\n",
    "            _,preds = torch.max(outputs, dim = 1)\n",
    "\n",
    "            loss = loss_fn(outputs, targets.detach())\n",
    "            correct_predictions += torch.sum(preds == targets).cpu()\n",
    "            losses.append(loss.item())\n",
    "    return correct_predictions/n_examples, np.mean(losses)\n",
    "\n",
    "# Model Evaluation on test_data_loader\n",
    "def get_predictions(model, data_loader):\n",
    "    model = model.eval()\n",
    "    predictions = []\n",
    "    prediction_probs = []\n",
    "    real_values = []\n",
    "    inputs = []\n",
    "\n",
    "    with torch.no_grad():\n",
    "        for d in data_loader:\n",
    "#             texts = d[\"text\"].to(device)\n",
    "            input_ids = d[\"input_ids\"].to(device)\n",
    "            attention_mask = d[\"attention_mask\"].to(device)\n",
    "            targets = d[\"targets\"].to(device)\n",
    "            outputs = model(input_ids = input_ids, attention_mask = attention_mask)\n",
    "            _, preds = torch.max(outputs, dim=1)\n",
    "            probs = F.softmax(outputs, dim =1)\n",
    "#             review_texts.extend(texts)\n",
    "            predictions.extend(preds)\n",
    "            prediction_probs.extend(probs)\n",
    "            real_values.extend(targets)\n",
    "            inputs.extend(input_ids) ## rmb to add a line to return this... omg\n",
    "\n",
    "    predictions = torch.stack(predictions).cpu()\n",
    "    prediction_probs = torch.stack(prediction_probs).cpu()\n",
    "    real_values = torch.stack(real_values).cpu()\n",
    "    inputs = torch.stack(inputs).cpu()\n",
    "    return predictions, prediction_probs, real_values #, review_texts"
   ]
  },
  {
   "cell_type": "code",
   "execution_count": 3,
   "metadata": {
    "colab": {
     "base_uri": "https://localhost:8080/",
     "height": 204
    },
    "id": "YQEJ86_OY8S_",
    "outputId": "922710bf-5a45-4013-da04-d984198151a6"
   },
   "outputs": [
    {
     "data": {
      "text/html": [
       "<div>\n",
       "<style scoped>\n",
       "    .dataframe tbody tr th:only-of-type {\n",
       "        vertical-align: middle;\n",
       "    }\n",
       "\n",
       "    .dataframe tbody tr th {\n",
       "        vertical-align: top;\n",
       "    }\n",
       "\n",
       "    .dataframe thead th {\n",
       "        text-align: right;\n",
       "    }\n",
       "</style>\n",
       "<table border=\"1\" class=\"dataframe\">\n",
       "  <thead>\n",
       "    <tr style=\"text-align: right;\">\n",
       "      <th></th>\n",
       "      <th>text</th>\n",
       "      <th>humor</th>\n",
       "    </tr>\n",
       "  </thead>\n",
       "  <tbody>\n",
       "    <tr>\n",
       "      <th>0</th>\n",
       "      <td>Joe biden rules out 2020 bid: 'guys, i'm not r...</td>\n",
       "      <td>False</td>\n",
       "    </tr>\n",
       "    <tr>\n",
       "      <th>1</th>\n",
       "      <td>Watch: darvish gave hitter whiplash with slow ...</td>\n",
       "      <td>False</td>\n",
       "    </tr>\n",
       "    <tr>\n",
       "      <th>2</th>\n",
       "      <td>What do you call a turtle without its shell? d...</td>\n",
       "      <td>True</td>\n",
       "    </tr>\n",
       "    <tr>\n",
       "      <th>3</th>\n",
       "      <td>5 reasons the 2016 election feels so personal</td>\n",
       "      <td>False</td>\n",
       "    </tr>\n",
       "    <tr>\n",
       "      <th>4</th>\n",
       "      <td>Pasco police shot mexican migrant from behind,...</td>\n",
       "      <td>False</td>\n",
       "    </tr>\n",
       "  </tbody>\n",
       "</table>\n",
       "</div>"
      ],
      "text/plain": [
       "                                                text  humor\n",
       "0  Joe biden rules out 2020 bid: 'guys, i'm not r...  False\n",
       "1  Watch: darvish gave hitter whiplash with slow ...  False\n",
       "2  What do you call a turtle without its shell? d...   True\n",
       "3      5 reasons the 2016 election feels so personal  False\n",
       "4  Pasco police shot mexican migrant from behind,...  False"
      ]
     },
     "execution_count": 3,
     "metadata": {},
     "output_type": "execute_result"
    }
   ],
   "source": [
    "#please upload the dataset file before running\n",
    "data = '/Users/hanyen/Desktop/centad/models/dataset.csv' # raw dataset\n",
    "df = pd.DataFrame(pd.read_csv(data,nrows=10000))\n",
    "# df['humor'] = np.where(df['humor'],1,0)\n",
    "\n",
    "df.head()"
   ]
  },
  {
   "cell_type": "code",
   "execution_count": 1,
   "metadata": {
    "id": "IaxIpr0recr-"
   },
   "outputs": [
    {
     "ename": "ModuleNotFoundError",
     "evalue": "No module named 'seaborn'",
     "output_type": "error",
     "traceback": [
      "\u001b[0;31m---------------------------------------------------------------------------\u001b[0m",
      "\u001b[0;31mModuleNotFoundError\u001b[0m                       Traceback (most recent call last)",
      "Cell \u001b[0;32mIn[1], line 1\u001b[0m\n\u001b[0;32m----> 1\u001b[0m \u001b[39mimport\u001b[39;00m \u001b[39mseaborn\u001b[39;00m \u001b[39mas\u001b[39;00m \u001b[39msns\u001b[39;00m\n\u001b[1;32m      2\u001b[0m sns\u001b[39m.\u001b[39mset(style\u001b[39m=\u001b[39m\u001b[39m'\u001b[39m\u001b[39mwhitegrid\u001b[39m\u001b[39m'\u001b[39m,palette\u001b[39m=\u001b[39m\u001b[39m'\u001b[39m\u001b[39mmuted\u001b[39m\u001b[39m'\u001b[39m,font_scale\u001b[39m=\u001b[39m\u001b[39m1.2\u001b[39m)\n\u001b[1;32m      3\u001b[0m sns\u001b[39m.\u001b[39mset_palette(sns\u001b[39m.\u001b[39mcolor_palette(\u001b[39m'\u001b[39m\u001b[39mPaired\u001b[39m\u001b[39m'\u001b[39m))\n",
      "\u001b[0;31mModuleNotFoundError\u001b[0m: No module named 'seaborn'"
     ]
    }
   ],
   "source": [
    "import seaborn as sns\n",
    "sns.set(style='whitegrid',palette='muted',font_scale=1.2)\n",
    "sns.set_palette(sns.color_palette('Paired'))\n",
    "import matplotlib.pyplot as plt\n",
    "# plotting"
   ]
  },
  {
   "cell_type": "code",
   "execution_count": 5,
   "metadata": {
    "colab": {
     "base_uri": "https://localhost:8080/",
     "height": 479
    },
    "id": "4HfrlkX_fFzN",
    "outputId": "7258c680-3c61-443a-f1a8-d6db35cdcc4d"
   },
   "outputs": [
    {
     "data": {
      "text/plain": [
       "Text(0.5, 0, 'Token Count')"
      ]
     },
     "execution_count": 5,
     "metadata": {},
     "output_type": "execute_result"
    },
    {
     "data": {
      "image/png": "[encoded data removed]",
      "text/plain": [
       "<Figure size 640x480 with 1 Axes>"
      ]
     },
     "metadata": {},
     "output_type": "display_data"
    }
   ],
   "source": [
    "# look at timestamp 16:27\n",
    "token_length_list = []\n",
    "for txt in df.text:\n",
    "  tokens = tokenizer.encode(txt, truncation=True, max_length=512)\n",
    "  token_length_list.append(len(tokens))\n",
    "\n",
    "sns.distplot(token_length_list)\n",
    "plt.xlim([0,32])\n",
    "plt.xlabel('Token Count')"
   ]
  },
  {
   "cell_type": "code",
   "execution_count": 6,
   "metadata": {
    "colab": {
     "base_uri": "https://localhost:8080/",
     "height": 436
    },
    "id": "dmBmVR8pgZ3h",
    "outputId": "88459477-e5e8-4d4d-bcdf-0224f22ecf06"
   },
   "outputs": [
    {
     "name": "stdout",
     "output_type": "stream",
     "text": [
      "(7000, 2) (1500, 2) (1500, 2)\n"
     ]
    },
    {
     "data": {
      "text/html": [
       "<div>\n",
       "<style scoped>\n",
       "    .dataframe tbody tr th:only-of-type {\n",
       "        vertical-align: middle;\n",
       "    }\n",
       "\n",
       "    .dataframe tbody tr th {\n",
       "        vertical-align: top;\n",
       "    }\n",
       "\n",
       "    .dataframe thead th {\n",
       "        text-align: right;\n",
       "    }\n",
       "</style>\n",
       "<table border=\"1\" class=\"dataframe\">\n",
       "  <thead>\n",
       "    <tr style=\"text-align: right;\">\n",
       "      <th></th>\n",
       "      <th>text</th>\n",
       "      <th>humor</th>\n",
       "    </tr>\n",
       "  </thead>\n",
       "  <tbody>\n",
       "    <tr>\n",
       "      <th>1306</th>\n",
       "      <td>North west can't even take a bath without kany...</td>\n",
       "      <td>False</td>\n",
       "    </tr>\n",
       "    <tr>\n",
       "      <th>8879</th>\n",
       "      <td>Cooking tip: you can almost always substitute ...</td>\n",
       "      <td>True</td>\n",
       "    </tr>\n",
       "    <tr>\n",
       "      <th>2532</th>\n",
       "      <td>Don cheadle claims trump once used racial slur...</td>\n",
       "      <td>False</td>\n",
       "    </tr>\n",
       "    <tr>\n",
       "      <th>8560</th>\n",
       "      <td>10 affordable cities where luxury apartments a...</td>\n",
       "      <td>False</td>\n",
       "    </tr>\n",
       "    <tr>\n",
       "      <th>9032</th>\n",
       "      <td>Dem congressman wins nation's most expensive h...</td>\n",
       "      <td>False</td>\n",
       "    </tr>\n",
       "    <tr>\n",
       "      <th>...</th>\n",
       "      <td>...</td>\n",
       "      <td>...</td>\n",
       "    </tr>\n",
       "    <tr>\n",
       "      <th>6642</th>\n",
       "      <td>Why doesn't donald trump buy toilet paper? bec...</td>\n",
       "      <td>True</td>\n",
       "    </tr>\n",
       "    <tr>\n",
       "      <th>7499</th>\n",
       "      <td>15 drunk people turned into art by their frien...</td>\n",
       "      <td>False</td>\n",
       "    </tr>\n",
       "    <tr>\n",
       "      <th>1523</th>\n",
       "      <td>Sugar in food: 8 eats with more than a twinkie</td>\n",
       "      <td>False</td>\n",
       "    </tr>\n",
       "    <tr>\n",
       "      <th>1642</th>\n",
       "      <td>Hillary clinton proposes $10 billion plan to f...</td>\n",
       "      <td>False</td>\n",
       "    </tr>\n",
       "    <tr>\n",
       "      <th>136</th>\n",
       "      <td>Are bradley cooper and suki waterhouse back to...</td>\n",
       "      <td>False</td>\n",
       "    </tr>\n",
       "  </tbody>\n",
       "</table>\n",
       "<p>1500 rows × 2 columns</p>\n",
       "</div>"
      ],
      "text/plain": [
       "                                                   text  humor\n",
       "1306  North west can't even take a bath without kany...  False\n",
       "8879  Cooking tip: you can almost always substitute ...   True\n",
       "2532  Don cheadle claims trump once used racial slur...  False\n",
       "8560  10 affordable cities where luxury apartments a...  False\n",
       "9032  Dem congressman wins nation's most expensive h...  False\n",
       "...                                                 ...    ...\n",
       "6642  Why doesn't donald trump buy toilet paper? bec...   True\n",
       "7499  15 drunk people turned into art by their frien...  False\n",
       "1523     Sugar in food: 8 eats with more than a twinkie  False\n",
       "1642  Hillary clinton proposes $10 billion plan to f...  False\n",
       "136   Are bradley cooper and suki waterhouse back to...  False\n",
       "\n",
       "[1500 rows x 2 columns]"
      ]
     },
     "execution_count": 6,
     "metadata": {},
     "output_type": "execute_result"
    }
   ],
   "source": [
    "# split set\n",
    "\n",
    "df_train, df_test = train_test_split(df,test_size=0.3,random_state=RANDOM_SEED)\n",
    "df_val, df_test = train_test_split(df_test,test_size=0.5,random_state=RANDOM_SEED)\n",
    "\n",
    "print(df_train.shape,df_test.shape, df_val.shape)\n",
    "\n",
    "df_val"
   ]
  },
  {
   "cell_type": "code",
   "execution_count": 7,
   "metadata": {
    "id": "qufNHTmt7mTc"
   },
   "outputs": [],
   "source": [
    "train_data_loader = create_data_loader(df_train, tokenizer)\n",
    "val_data_loader = create_data_loader(df_val, tokenizer)\n",
    "test_data_loader = create_data_loader(df_test, tokenizer)"
   ]
  },
  {
   "cell_type": "code",
   "execution_count": 8,
   "metadata": {
    "colab": {
     "base_uri": "https://localhost:8080/"
    },
    "id": "lL3uiUkP8NyC",
    "outputId": "140c429d-fdeb-4cfc-fc21-c2d2741bb39f"
   },
   "outputs": [
    {
     "name": "stdout",
     "output_type": "stream",
     "text": [
      "dict_keys(['input_ids', 'attention_mask', 'targets'])\n",
      "torch.Size([16, 512])\n",
      "torch.Size([16, 512])\n",
      "torch.Size([16])\n"
     ]
    }
   ],
   "source": [
    "#Testing to see if the data loader works appropriately\n",
    "data = next(iter(val_data_loader))\n",
    "print(data.keys())\n",
    "print(data['input_ids'].shape)\n",
    "print(data['attention_mask'].shape)\n",
    "print(data['targets'].shape)"
   ]
  },
  {
   "cell_type": "code",
   "execution_count": 9,
   "metadata": {},
   "outputs": [
    {
     "name": "stdout",
     "output_type": "stream",
     "text": [
      "dict_keys(['input_ids', 'attention_mask', 'targets'])\n"
     ]
    }
   ],
   "source": [
    "data = next(iter(test_data_loader))\n",
    "print(data.keys())"
   ]
  },
  {
   "cell_type": "code",
   "execution_count": 21,
   "metadata": {
    "colab": {
     "base_uri": "https://localhost:8080/",
     "height": 321,
     "referenced_widgets": [
      "b3ba454f18d04e3ebab68997816c72a0",
      "dbbff08feec648e09a8274d67a2921f2",
      "2c62069429fc42f3bfbfba0cbf20fcbb",
      "88d018da782a4fdca1692ab54d25dc12",
      "2552df2978aa4c31adacb02c571c4594",
      "ce5e8c8357754de696a34a125e886331",
      "891339a88dd8420bbdb1ff601adcf0b7",
      "1003f447b22e4e38bf6433f8497c158f",
      "67b037e654db4254872769c8ec83b093",
      "ae14606f4be843bcbddf767d69fdc71e",
      "495f9882be274344ad3e42b3d0c79a5b"
     ]
    },
    "id": "IYy9ZY0FscA7",
    "outputId": "ba53cb35-1f1e-44c7-d007-2ed6d2389580"
   },
   "outputs": [
    {
     "data": {
      "text/plain": [
       "tensor([[0.1224, 0.8776],\n",
       "        [0.4455, 0.5545],\n",
       "        [0.3735, 0.6265],\n",
       "        [0.3132, 0.6868],\n",
       "        [0.2864, 0.7136],\n",
       "        [0.3218, 0.6782],\n",
       "        [0.4692, 0.5308],\n",
       "        [0.3283, 0.6717],\n",
       "        [0.3075, 0.6925],\n",
       "        [0.4220, 0.5780],\n",
       "        [0.3902, 0.6098],\n",
       "        [0.2510, 0.7490],\n",
       "        [0.4073, 0.5927],\n",
       "        [0.5040, 0.4960],\n",
       "        [0.1632, 0.8368],\n",
       "        [0.2903, 0.7097]], grad_fn=<SoftmaxBackward0>)"
      ]
     },
     "execution_count": 21,
     "metadata": {},
     "output_type": "execute_result"
    }
   ],
   "source": [
    "\n",
    "class_names = [\"FALSE\",\"TRUE\"]\n",
    "\n",
    "\n",
    "model = SentimentClassifier(len(class_names))\n",
    "model = model.to(device)\n",
    "\n",
    "# An evaluation run of the model\n",
    "input_ids = data['input_ids'].to(device)\n",
    "attention_mask = data['attention_mask'].to(device)\n",
    "F.softmax(model(input_ids,attention_mask), dim = 1)"
   ]
  },
  {
   "cell_type": "code",
   "execution_count": 11,
   "metadata": {
    "colab": {
     "base_uri": "https://localhost:8080/",
     "height": 242
    },
    "id": "5QtTT9PHt5vO",
    "outputId": "cb530d00-6935-4241-eda6-9530304420d4"
   },
   "outputs": [],
   "source": [
    "EPOCHS = 10\n",
    "\n",
    "optimizer = optim.AdamW(model.parameters(), lr= 1e-5)\n",
    "\n",
    "total_steps = len(train_data_loader) * EPOCHS\n",
    "\n",
    "scheduler = get_linear_schedule_with_warmup(\n",
    "    optimizer,\n",
    "    num_warmup_steps = 0,\n",
    "    num_training_steps=total_steps)\n",
    "loss_fn = nn.CrossEntropyLoss().to(device)"
   ]
  },
  {
   "cell_type": "code",
   "execution_count": 12,
   "metadata": {
    "colab": {
     "base_uri": "https://localhost:8080/"
    },
    "id": "RB_J4SR1t-Bj",
    "outputId": "adf22e37-ef40-4b84-e4a3-683be9760207"
   },
   "outputs": [
    {
     "name": "stdout",
     "output_type": "stream",
     "text": [
      "Epoch 1/ 10\n",
      "---------------\n",
      "Train loss 0.17534453921513335 accuracy 0.9434285759925842\n",
      "Val loss 0.11216339118223875 accuracy 0.9693333506584167\n",
      "Epoch 2/ 10\n",
      "---------------\n",
      "Train loss 0.06385596969750174 accuracy 0.9825714230537415\n",
      "Val loss 0.10095748619146724 accuracy 0.9773333072662354\n",
      "Epoch 3/ 10\n",
      "---------------\n",
      "Train loss 0.03298102389302394 accuracy 0.9925714135169983\n",
      "Val loss 0.12632070412547228 accuracy 0.9753333330154419\n",
      "Epoch 4/ 10\n",
      "---------------\n",
      "Train loss 0.018846383100092734 accuracy 0.9958571195602417\n",
      "Val loss 0.14754170397320698 accuracy 0.972000002861023\n",
      "Epoch 5/ 10\n",
      "---------------\n",
      "Train loss 0.011991268106276163 accuracy 0.9975714087486267\n",
      "Val loss 0.146395239044997 accuracy 0.9739999771118164\n",
      "Epoch 6/ 10\n",
      "---------------\n",
      "Train loss 0.003844997804160347 accuracy 0.9988571405410767\n",
      "Val loss 0.1799857932727467 accuracy 0.9726666808128357\n",
      "Epoch 7/ 10\n",
      "---------------\n",
      "Train loss 0.0031479793581900297 accuracy 0.9992856979370117\n",
      "Val loss 0.13760138290916152 accuracy 0.9753333330154419\n",
      "Epoch 8/ 10\n",
      "---------------\n",
      "Train loss 0.00043992065133618085 accuracy 0.9997143149375916\n",
      "Val loss 0.16758395822963645 accuracy 0.9726666808128357\n",
      "Epoch 9/ 10\n",
      "---------------\n",
      "Train loss 0.0010997263294509501 accuracy 0.9997143149375916\n",
      "Val loss 0.13827192010192332 accuracy 0.9766666889190674\n",
      "Epoch 10/ 10\n",
      "---------------\n",
      "Train loss 0.0004738919459955531 accuracy 0.9997143149375916\n",
      "Val loss 0.1455004667861547 accuracy 0.9773333072662354\n",
      "CPU times: user 23h 50min 35s, sys: 14h 25min 12s, total: 1d 14h 15min 48s\n",
      "Wall time: 1d 43min 31s\n"
     ]
    }
   ],
   "source": [
    "%%time\n",
    "history = defaultdict(list)\n",
    "best_accuracy = 0\n",
    "\n",
    "for epoch in range(EPOCHS):\n",
    "    print(f'Epoch {epoch + 1}/ {EPOCHS}')\n",
    "    print('-'*15)\n",
    "    train_acc, train_loss = train_model(model, train_data_loader, loss_fn, optimizer, device, scheduler, len(df_train))\n",
    "    print(f'Train loss {train_loss} accuracy {train_acc}')\n",
    "\n",
    "    val_acc, val_loss = eval_model(model, val_data_loader, loss_fn, device, len(df_val)) #### problen/\n",
    "    print(f'Val loss {val_loss} accuracy {val_acc}')\n",
    "\n",
    "    history['train_acc'].append(train_acc)\n",
    "    history['train_loss'].append(train_loss)\n",
    "    history['val_acc'].append(val_acc)\n",
    "    history['val_loss'].append(val_loss)\n",
    "\n",
    "    if val_acc>best_accuracy:\n",
    "        torch.save(model.state_dict(), 'best_model_state.bin')\n",
    "        best_accuracy = val_acc"
   ]
  },
  {
   "cell_type": "code",
   "execution_count": 71,
   "metadata": {},
   "outputs": [
    {
     "data": {
      "text/plain": [
       "SentimentClassifier(\n",
       "  (bert): BertModel(\n",
       "    (embeddings): BertEmbeddings(\n",
       "      (word_embeddings): Embedding(30522, 768, padding_idx=0)\n",
       "      (position_embeddings): Embedding(512, 768)\n",
       "      (token_type_embeddings): Embedding(2, 768)\n",
       "      (LayerNorm): LayerNorm((768,), eps=1e-12, elementwise_affine=True)\n",
       "      (dropout): Dropout(p=0.1, inplace=False)\n",
       "    )\n",
       "    (encoder): BertEncoder(\n",
       "      (layer): ModuleList(\n",
       "        (0-11): 12 x BertLayer(\n",
       "          (attention): BertAttention(\n",
       "            (self): BertSelfAttention(\n",
       "              (query): Linear(in_features=768, out_features=768, bias=True)\n",
       "              (key): Linear(in_features=768, out_features=768, bias=True)\n",
       "              (value): Linear(in_features=768, out_features=768, bias=True)\n",
       "              (dropout): Dropout(p=0.1, inplace=False)\n",
       "            )\n",
       "            (output): BertSelfOutput(\n",
       "              (dense): Linear(in_features=768, out_features=768, bias=True)\n",
       "              (LayerNorm): LayerNorm((768,), eps=1e-12, elementwise_affine=True)\n",
       "              (dropout): Dropout(p=0.1, inplace=False)\n",
       "            )\n",
       "          )\n",
       "          (intermediate): BertIntermediate(\n",
       "            (dense): Linear(in_features=768, out_features=3072, bias=True)\n",
       "            (intermediate_act_fn): GELUActivation()\n",
       "          )\n",
       "          (output): BertOutput(\n",
       "            (dense): Linear(in_features=3072, out_features=768, bias=True)\n",
       "            (LayerNorm): LayerNorm((768,), eps=1e-12, elementwise_affine=True)\n",
       "            (dropout): Dropout(p=0.1, inplace=False)\n",
       "          )\n",
       "        )\n",
       "      )\n",
       "    )\n",
       "    (pooler): BertPooler(\n",
       "      (dense): Linear(in_features=768, out_features=768, bias=True)\n",
       "      (activation): Tanh()\n",
       "    )\n",
       "  )\n",
       "  (drop): Dropout(p=0.3, inplace=False)\n",
       "  (out): Linear(in_features=768, out_features=2, bias=True)\n",
       ")"
      ]
     },
     "execution_count": 71,
     "metadata": {},
     "output_type": "execute_result"
    }
   ],
   "source": [
    "model = SentimentClassifier(len(class_names))\n",
    "model = model.to(device)\n",
    "model.load_state_dict(torch.load(\"/Users/hanyen/Desktop/centad/best_model_state.bin\",map_location=device))\n",
    "model.to(device)"
   ]
  },
  {
   "cell_type": "code",
   "execution_count": 72,
   "metadata": {},
   "outputs": [],
   "source": [
    "def show_confusion_matrix(confusion_matrix):\n",
    "    hmap = sns.heatmap(confusion_matrix, annot=True, fmt=\"d\", cmap=\"Blues\")\n",
    "    hmap.yaxis.set_ticklabels(hmap.yaxis.get_ticklabels(), rotation = 0, ha='right')\n",
    "    hmap.xaxis.set_ticklabels(hmap.xaxis.get_ticklabels(), rotation = 30, ha='right')\n",
    "    plt.ylabel('True Sentiment')\n",
    "    plt.xlabel('Predicted Sentiment')\n"
   ]
  },
  {
   "cell_type": "code",
   "execution_count": 73,
   "metadata": {},
   "outputs": [
    {
     "name": "stdout",
     "output_type": "stream",
     "text": [
      "              precision    recall  f1-score   support\n",
      "\n",
      "   NOT FUNNY       0.97      0.98      0.97       742\n",
      "       FUNNY       0.98      0.97      0.97       758\n",
      "\n",
      "    accuracy                           0.97      1500\n",
      "   macro avg       0.97      0.97      0.97      1500\n",
      "weighted avg       0.97      0.97      0.97      1500\n",
      "\n"
     ]
    },
    {
     "data": {
      "image/png": "[encoded data removed]",
      "text/plain": [
       "<Figure size 640x480 with 2 Axes>"
      ]
     },
     "metadata": {},
     "output_type": "display_data"
    }
   ],
   "source": [
    "y_pred, y_pred_probs, y_test = get_predictions(model, test_data_loader)\n",
    "class_names = ['FUNNY','NOT FUNNY']\n",
    "\n",
    "\n",
    "type(y_pred)\n",
    "y_pred = np.array(y_pred)\n",
    "y_test = np.array(y_test)\n",
    "print(classification_report(y_test, y_pred, target_names=class_names))\n",
    "cm = confusion_matrix(y_test, y_pred)\n",
    "df_cm = pd.DataFrame(cm, index=class_names, columns = class_names)\n",
    "show_confusion_matrix(df_cm)\n"
   ]
  },
  {
   "cell_type": "code",
   "execution_count": 74,
   "metadata": {},
   "outputs": [
    {
     "name": "stdout",
     "output_type": "stream",
     "text": [
      "Review text: What do you call a turtle without its shell? dead.'\n",
      "Sentiment  : FUNNY\n"
     ]
    }
   ],
   "source": [
    "review_text = \"What do you call a turtle without its shell? dead.'\"\n",
    "encoded_review = tokenizer.encode_plus(review_text, max_length=MAX_LEN, add_special_tokens=True, return_token_type_ids=False, pad_to_max_length=True, return_attention_mask=True,\n",
    "                                       truncation=True, return_tensors='pt')\n",
    "input_ids = encoded_review['input_ids'].to(device)\n",
    "attention_mask=encoded_review['attention_mask'].to(device)\n",
    "output = model(input_ids, attention_mask)\n",
    "_,prediction = torch.max(output, dim=1)\n",
    "\n",
    "print(f'Review text: {review_text}')\n",
    "print(f'Sentiment  : {class_names[prediction]}')"
   ]
  }
 ],
 "metadata": {
  "colab": {
   "provenance": []
  },
  "kernelspec": {
   "display_name": "Python 3 (ipykernel)",
   "language": "python",
   "name": "python3"
  },
  "language_info": {
   "codemirror_mode": {
    "name": "ipython",
    "version": 3
   },
   "file_extension": ".py",
   "mimetype": "text/x-python",
   "name": "python",
   "nbconvert_exporter": "python",
   "pygments_lexer": "ipython3",
   "version": "3.11.2"
  },
  "widgets": {
   "application/vnd.jupyter.widget-state+json": {
    "1003f447b22e4e38bf6433f8497c158f": {
     "model_module": "@jupyter-widgets/base",
     "model_module_version": "1.2.0",
     "model_name": "LayoutModel",
     "state": {
      "_model_module": "@jupyter-widgets/base",
      "_model_module_version": "1.2.0",
      "_model_name": "LayoutModel",
      "_view_count": null,
      "_view_module": "@jupyter-widgets/base",
      "_view_module_version": "1.2.0",
      "_view_name": "LayoutView",
      "align_content": null,
      "align_items": null,
      "align_self": null,
      "border": null,
      "bottom": null,
      "display": null,
      "flex": null,
      "flex_flow": null,
      "grid_area": null,
      "grid_auto_columns": null,
      "grid_auto_flow": null,
      "grid_auto_rows": null,
      "grid_column": null,
      "grid_gap": null,
      "grid_row": null,
      "grid_template_areas": null,
      "grid_template_columns": null,
      "grid_template_rows": null,
      "height": null,
      "justify_content": null,
      "justify_items": null,
      "left": null,
      "margin": null,
      "max_height": null,
      "max_width": null,
      "min_height": null,
      "min_width": null,
      "object_fit": null,
      "object_position": null,
      "order": null,
      "overflow": null,
      "overflow_x": null,
      "overflow_y": null,
      "padding": null,
      "right": null,
      "top": null,
      "visibility": null,
      "width": null
     }
    },
    "2552df2978aa4c31adacb02c571c4594": {
     "model_module": "@jupyter-widgets/base",
     "model_module_version": "1.2.0",
     "model_name": "LayoutModel",
     "state": {
      "_model_module": "@jupyter-widgets/base",
      "_model_module_version": "1.2.0",
      "_model_name": "LayoutModel",
      "_view_count": null,
      "_view_module": "@jupyter-widgets/base",
      "_view_module_version": "1.2.0",
      "_view_name": "LayoutView",
      "align_content": null,
      "align_items": null,
      "align_self": null,
      "border": null,
      "bottom": null,
      "display": null,
      "flex": null,
      "flex_flow": null,
      "grid_area": null,
      "grid_auto_columns": null,
      "grid_auto_flow": null,
      "grid_auto_rows": null,
      "grid_column": null,
      "grid_gap": null,
      "grid_row": null,
      "grid_template_areas": null,
      "grid_template_columns": null,
      "grid_template_rows": null,
      "height": null,
      "justify_content": null,
      "justify_items": null,
      "left": null,
      "margin": null,
      "max_height": null,
      "max_width": null,
      "min_height": null,
      "min_width": null,
      "object_fit": null,
      "object_position": null,
      "order": null,
      "overflow": null,
      "overflow_x": null,
      "overflow_y": null,
      "padding": null,
      "right": null,
      "top": null,
      "visibility": null,
      "width": null
     }
    },
    "2c62069429fc42f3bfbfba0cbf20fcbb": {
     "model_module": "@jupyter-widgets/controls",
     "model_module_version": "1.5.0",
     "model_name": "FloatProgressModel",
     "state": {
      "_dom_classes": [],
      "_model_module": "@jupyter-widgets/controls",
      "_model_module_version": "1.5.0",
      "_model_name": "FloatProgressModel",
      "_view_count": null,
      "_view_module": "@jupyter-widgets/controls",
      "_view_module_version": "1.5.0",
      "_view_name": "ProgressView",
      "bar_style": "success",
      "description": "",
      "description_tooltip": null,
      "layout": "IPY_MODEL_1003f447b22e4e38bf6433f8497c158f",
      "max": 440449768,
      "min": 0,
      "orientation": "horizontal",
      "style": "IPY_MODEL_67b037e654db4254872769c8ec83b093",
      "value": 440449768
     }
    },
    "495f9882be274344ad3e42b3d0c79a5b": {
     "model_module": "@jupyter-widgets/controls",
     "model_module_version": "1.5.0",
     "model_name": "DescriptionStyleModel",
     "state": {
      "_model_module": "@jupyter-widgets/controls",
      "_model_module_version": "1.5.0",
      "_model_name": "DescriptionStyleModel",
      "_view_count": null,
      "_view_module": "@jupyter-widgets/base",
      "_view_module_version": "1.2.0",
      "_view_name": "StyleView",
      "description_width": ""
     }
    },
    "67b037e654db4254872769c8ec83b093": {
     "model_module": "@jupyter-widgets/controls",
     "model_module_version": "1.5.0",
     "model_name": "ProgressStyleModel",
     "state": {
      "_model_module": "@jupyter-widgets/controls",
      "_model_module_version": "1.5.0",
      "_model_name": "ProgressStyleModel",
      "_view_count": null,
      "_view_module": "@jupyter-widgets/base",
      "_view_module_version": "1.2.0",
      "_view_name": "StyleView",
      "bar_color": null,
      "description_width": ""
     }
    },
    "88d018da782a4fdca1692ab54d25dc12": {
     "model_module": "@jupyter-widgets/controls",
     "model_module_version": "1.5.0",
     "model_name": "HTMLModel",
     "state": {
      "_dom_classes": [],
      "_model_module": "@jupyter-widgets/controls",
      "_model_module_version": "1.5.0",
      "_model_name": "HTMLModel",
      "_view_count": null,
      "_view_module": "@jupyter-widgets/controls",
      "_view_module_version": "1.5.0",
      "_view_name": "HTMLView",
      "description": "",
      "description_tooltip": null,
      "layout": "IPY_MODEL_ae14606f4be843bcbddf767d69fdc71e",
      "placeholder": "​",
      "style": "IPY_MODEL_495f9882be274344ad3e42b3d0c79a5b",
      "value": " 440M/440M [00:04&lt;00:00, 103MB/s]"
     }
    },
    "891339a88dd8420bbdb1ff601adcf0b7": {
     "model_module": "@jupyter-widgets/controls",
     "model_module_version": "1.5.0",
     "model_name": "DescriptionStyleModel",
     "state": {
      "_model_module": "@jupyter-widgets/controls",
      "_model_module_version": "1.5.0",
      "_model_name": "DescriptionStyleModel",
      "_view_count": null,
      "_view_module": "@jupyter-widgets/base",
      "_view_module_version": "1.2.0",
      "_view_name": "StyleView",
      "description_width": ""
     }
    },
    "ae14606f4be843bcbddf767d69fdc71e": {
     "model_module": "@jupyter-widgets/base",
     "model_module_version": "1.2.0",
     "model_name": "LayoutModel",
     "state": {
      "_model_module": "@jupyter-widgets/base",
      "_model_module_version": "1.2.0",
      "_model_name": "LayoutModel",
      "_view_count": null,
      "_view_module": "@jupyter-widgets/base",
      "_view_module_version": "1.2.0",
      "_view_name": "LayoutView",
      "align_content": null,
      "align_items": null,
      "align_self": null,
      "border": null,
      "bottom": null,
      "display": null,
      "flex": null,
      "flex_flow": null,
      "grid_area": null,
      "grid_auto_columns": null,
      "grid_auto_flow": null,
      "grid_auto_rows": null,
      "grid_column": null,
      "grid_gap": null,
      "grid_row": null,
      "grid_template_areas": null,
      "grid_template_columns": null,
      "grid_template_rows": null,
      "height": null,
      "justify_content": null,
      "justify_items": null,
      "left": null,
      "margin": null,
      "max_height": null,
      "max_width": null,
      "min_height": null,
      "min_width": null,
      "object_fit": null,
      "object_position": null,
      "order": null,
      "overflow": null,
      "overflow_x": null,
      "overflow_y": null,
      "padding": null,
      "right": null,
      "top": null,
      "visibility": null,
      "width": null
     }
    },
    "b3ba454f18d04e3ebab68997816c72a0": {
     "model_module": "@jupyter-widgets/controls",
     "model_module_version": "1.5.0",
     "model_name": "HBoxModel",
     "state": {
      "_dom_classes": [],
      "_model_module": "@jupyter-widgets/controls",
      "_model_module_version": "1.5.0",
      "_model_name": "HBoxModel",
      "_view_count": null,
      "_view_module": "@jupyter-widgets/controls",
      "_view_module_version": "1.5.0",
      "_view_name": "HBoxView",
      "box_style": "",
      "children": [
       "IPY_MODEL_dbbff08feec648e09a8274d67a2921f2",
       "IPY_MODEL_2c62069429fc42f3bfbfba0cbf20fcbb",
       "IPY_MODEL_88d018da782a4fdca1692ab54d25dc12"
      ],
      "layout": "IPY_MODEL_2552df2978aa4c31adacb02c571c4594"
     }
    },
    "ce5e8c8357754de696a34a125e886331": {
     "model_module": "@jupyter-widgets/base",
     "model_module_version": "1.2.0",
     "model_name": "LayoutModel",
     "state": {
      "_model_module": "@jupyter-widgets/base",
      "_model_module_version": "1.2.0",
      "_model_name": "LayoutModel",
      "_view_count": null,
      "_view_module": "@jupyter-widgets/base",
      "_view_module_version": "1.2.0",
      "_view_name": "LayoutView",
      "align_content": null,
      "align_items": null,
      "align_self": null,
      "border": null,
      "bottom": null,
      "display": null,
      "flex": null,
      "flex_flow": null,
      "grid_area": null,
      "grid_auto_columns": null,
      "grid_auto_flow": null,
      "grid_auto_rows": null,
      "grid_column": null,
      "grid_gap": null,
      "grid_row": null,
      "grid_template_areas": null,
      "grid_template_columns": null,
      "grid_template_rows": null,
      "height": null,
      "justify_content": null,
      "justify_items": null,
      "left": null,
      "margin": null,
      "max_height": null,
      "max_width": null,
      "min_height": null,
      "min_width": null,
      "object_fit": null,
      "object_position": null,
      "order": null,
      "overflow": null,
      "overflow_x": null,
      "overflow_y": null,
      "padding": null,
      "right": null,
      "top": null,
      "visibility": null,
      "width": null
     }
    },
    "dbbff08feec648e09a8274d67a2921f2": {
     "model_module": "@jupyter-widgets/controls",
     "model_module_version": "1.5.0",
     "model_name": "HTMLModel",
     "state": {
      "_dom_classes": [],
      "_model_module": "@jupyter-widgets/controls",
      "_model_module_version": "1.5.0",
      "_model_name": "HTMLModel",
      "_view_count": null,
      "_view_module": "@jupyter-widgets/controls",
      "_view_module_version": "1.5.0",
      "_view_name": "HTMLView",
      "description": "",
      "description_tooltip": null,
      "layout": "IPY_MODEL_ce5e8c8357754de696a34a125e886331",
      "placeholder": "​",
      "style": "IPY_MODEL_891339a88dd8420bbdb1ff601adcf0b7",
      "value": "model.safetensors: 100%"
     }
    }
   }
  }
 },
 "nbformat": 4,
 "nbformat_minor": 1
}
