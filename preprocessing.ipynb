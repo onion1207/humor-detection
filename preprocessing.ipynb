{
 "cells": [
  {
   "cell_type": "code",
   "execution_count": 2,
   "metadata": {},
   "outputs": [],
   "source": [
    "import numpy as np # linear algebra\n",
    "import pandas as pd # data processing CSV file\n",
    "# import matplotlib.pyplot as plt # visualising data \n",
    "# import seaborn as sns # visualising statistical data\n",
    "import sklearn\n",
    "from sklearn.model_selection import train_test_split\n",
    "\n",
    "# %matplotlib inline\n",
    "\n",
    "import os\n",
    "for dirname, _, filenames in os.walk('/kaggle/input'):\n",
    "    for filename in filenames:\n",
    "        print(os.path.join(dirname, filename))\n",
    "        \n",
    "import warnings\n",
    "warnings.filterwarnings('ignore')\n",
    "\n",
    "# can ignore this kernel but rmb to run it"
   ]
  },
  {
   "cell_type": "code",
   "execution_count": 3,
   "metadata": {},
   "outputs": [
    {
     "data": {
      "text/html": [
       "<div>\n",
       "<style scoped>\n",
       "    .dataframe tbody tr th:only-of-type {\n",
       "        vertical-align: middle;\n",
       "    }\n",
       "\n",
       "    .dataframe tbody tr th {\n",
       "        vertical-align: top;\n",
       "    }\n",
       "\n",
       "    .dataframe thead th {\n",
       "        text-align: right;\n",
       "    }\n",
       "</style>\n",
       "<table border=\"1\" class=\"dataframe\">\n",
       "  <thead>\n",
       "    <tr style=\"text-align: right;\">\n",
       "      <th></th>\n",
       "      <th>text</th>\n",
       "      <th>humor</th>\n",
       "    </tr>\n",
       "  </thead>\n",
       "  <tbody>\n",
       "    <tr>\n",
       "      <th>0</th>\n",
       "      <td>Joe biden rules out 2020 bid: 'guys, i'm not r...</td>\n",
       "      <td>0</td>\n",
       "    </tr>\n",
       "    <tr>\n",
       "      <th>1</th>\n",
       "      <td>Watch: darvish gave hitter whiplash with slow ...</td>\n",
       "      <td>0</td>\n",
       "    </tr>\n",
       "    <tr>\n",
       "      <th>2</th>\n",
       "      <td>What do you call a turtle without its shell? d...</td>\n",
       "      <td>1</td>\n",
       "    </tr>\n",
       "    <tr>\n",
       "      <th>3</th>\n",
       "      <td>5 reasons the 2016 election feels so personal</td>\n",
       "      <td>0</td>\n",
       "    </tr>\n",
       "    <tr>\n",
       "      <th>4</th>\n",
       "      <td>Pasco police shot mexican migrant from behind,...</td>\n",
       "      <td>0</td>\n",
       "    </tr>\n",
       "  </tbody>\n",
       "</table>\n",
       "</div>"
      ],
      "text/plain": [
       "                                                text  humor\n",
       "0  Joe biden rules out 2020 bid: 'guys, i'm not r...      0\n",
       "1  Watch: darvish gave hitter whiplash with slow ...      0\n",
       "2  What do you call a turtle without its shell? d...      1\n",
       "3      5 reasons the 2016 election feels so personal      0\n",
       "4  Pasco police shot mexican migrant from behind,...      0"
      ]
     },
     "execution_count": 3,
     "metadata": {},
     "output_type": "execute_result"
    }
   ],
   "source": [
    "\n",
    "data = 'dataset.csv'\n",
    "\n",
    "df = pd.DataFrame(pd.read_csv(data,nrows=10000))\n",
    "\n",
    "df.head()\n",
    "# opening the dataset\n",
    "\n",
    "\n",
    "# preprocessing {True:1, False:0} Label Encoding\n",
    "# True (i.e Funny) becomes 1, & vice versa\n",
    "df['humor'] = np.where(df['humor'],1,0) \n",
    "df.head()"
   ]
  },
  {
   "cell_type": "code",
   "execution_count": 4,
   "metadata": {},
   "outputs": [
    {
     "name": "stderr",
     "output_type": "stream",
     "text": [
      "[nltk_data] Downloading package stopwords to\n",
      "[nltk_data]     /Users/hanyen/nltk_data...\n",
      "[nltk_data]   Package stopwords is already up-to-date!\n"
     ]
    }
   ],
   "source": [
    "\n",
    "# stop word removal, etc, & their imports\n",
    "import nltk\n",
    "\n",
    "from nltk.tokenize import word_tokenize\n",
    "from nltk.stem.porter import PorterStemmer\n",
    "\n",
    "from nltk.corpus import stopwords \n",
    "nltk.download('stopwords')\n",
    "\n",
    "sw = set (stopwords.words('english'))\n",
    "stemmer = PorterStemmer()\n",
    "\n",
    "\n",
    "def preproc(sentence):\n",
    "    # sentence is given as a list of tokenized words\n",
    "    sentence = [w.lower() for w in sentence if w.isalpha()] # removing uppercasing\n",
    "\n",
    "# uncomment any of the following to see if there is a change in results\n",
    "    # sentence = [word for word in sentence if word not in sw] #stopword removal\n",
    "    # sentence = [stemmer.stem(word) for word in sentence] # changing words into their rootwords eg. achieving n achievment become achiev\n",
    "    # sentence = [lemmatizer.lemmatize(word) for word in sentence]\n",
    "    return ' '.join(sentence)    \n",
    "    \n",
    "new_data = []\n",
    "for sentence in df['text']:\n",
    "    sentence = word_tokenize(sentence)\n",
    "    sentence = preproc(sentence)\n",
    "    new_data.append(sentence)\n"
   ]
  },
  {
   "cell_type": "code",
   "execution_count": 5,
   "metadata": {},
   "outputs": [],
   "source": [
    "# formatting \n",
    "\n",
    "new_data = pd.DataFrame(new_data)\n",
    "new_data = new_data.rename(columns = {0:\"text\"})\n",
    "new_data['humor'] = [a for a in df['humor']]\n",
    "new_data['length'] = df['text'].apply(len)\n",
    "new_data.head() # and prints to check if dataset is correct\n",
    "new_data.shape\n",
    "new_data.info\n",
    "\n",
    "\n",
    "new_data.to_csv('/Users/hanyen/Desktop/centad/models/data_stem_sw.csv', index=False)\n",
    "\n",
    "\n"
   ]
  }
 ],
 "metadata": {
  "kernelspec": {
   "display_name": "Python 3",
   "language": "python",
   "name": "python3"
  },
  "language_info": {
   "codemirror_mode": {
    "name": "ipython",
    "version": 3
   },
   "file_extension": ".py",
   "mimetype": "text/x-python",
   "name": "python",
   "nbconvert_exporter": "python",
   "pygments_lexer": "ipython3",
   "version": "3.11.2"
  },
  "orig_nbformat": 4
 },
 "nbformat": 4,
 "nbformat_minor": 2
}
